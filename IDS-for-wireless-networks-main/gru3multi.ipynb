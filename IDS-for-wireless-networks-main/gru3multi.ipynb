{
 "cells": [
  {
   "cell_type": "code",
   "execution_count": 1,
   "metadata": {},
   "outputs": [
    {
     "name": "stderr",
     "output_type": "stream",
     "text": [
      "Using TensorFlow backend.\n",
      "C:\\Users\\priya\\Anaconda3\\envs\\tensorflow\\lib\\site-packages\\tensorflow\\python\\framework\\dtypes.py:458: FutureWarning: Passing (type, 1) or '1type' as a synonym of type is deprecated; in a future version of numpy, it will be understood as (type, (1,)) / '(1,)type'.\n",
      "  _np_qint8 = np.dtype([(\"qint8\", np.int8, 1)])\n",
      "C:\\Users\\priya\\Anaconda3\\envs\\tensorflow\\lib\\site-packages\\tensorflow\\python\\framework\\dtypes.py:459: FutureWarning: Passing (type, 1) or '1type' as a synonym of type is deprecated; in a future version of numpy, it will be understood as (type, (1,)) / '(1,)type'.\n",
      "  _np_quint8 = np.dtype([(\"quint8\", np.uint8, 1)])\n",
      "C:\\Users\\priya\\Anaconda3\\envs\\tensorflow\\lib\\site-packages\\tensorflow\\python\\framework\\dtypes.py:460: FutureWarning: Passing (type, 1) or '1type' as a synonym of type is deprecated; in a future version of numpy, it will be understood as (type, (1,)) / '(1,)type'.\n",
      "  _np_qint16 = np.dtype([(\"qint16\", np.int16, 1)])\n",
      "C:\\Users\\priya\\Anaconda3\\envs\\tensorflow\\lib\\site-packages\\tensorflow\\python\\framework\\dtypes.py:461: FutureWarning: Passing (type, 1) or '1type' as a synonym of type is deprecated; in a future version of numpy, it will be understood as (type, (1,)) / '(1,)type'.\n",
      "  _np_quint16 = np.dtype([(\"quint16\", np.uint16, 1)])\n",
      "C:\\Users\\priya\\Anaconda3\\envs\\tensorflow\\lib\\site-packages\\tensorflow\\python\\framework\\dtypes.py:462: FutureWarning: Passing (type, 1) or '1type' as a synonym of type is deprecated; in a future version of numpy, it will be understood as (type, (1,)) / '(1,)type'.\n",
      "  _np_qint32 = np.dtype([(\"qint32\", np.int32, 1)])\n",
      "C:\\Users\\priya\\Anaconda3\\envs\\tensorflow\\lib\\site-packages\\tensorflow\\python\\framework\\dtypes.py:465: FutureWarning: Passing (type, 1) or '1type' as a synonym of type is deprecated; in a future version of numpy, it will be understood as (type, (1,)) / '(1,)type'.\n",
      "  np_resource = np.dtype([(\"resource\", np.ubyte, 1)])\n"
     ]
    }
   ],
   "source": [
    "from __future__ import print_function\n",
    "from sklearn.model_selection import train_test_split\n",
    "import pandas as pd\n",
    "import numpy as np\n",
    "np.random.seed(1337)  # for reproducibility\n",
    "from keras.preprocessing import sequence\n",
    "from keras.utils import np_utils\n",
    "from keras.models import Sequential\n",
    "from keras.layers import Dense, Dropout, Activation, Embedding\n",
    "from keras.layers import LSTM, SimpleRNN, GRU\n",
    "from keras.datasets import imdb\n",
    "from keras.utils.np_utils import to_categorical\n",
    "from sklearn.metrics import (precision_score, recall_score,f1_score, accuracy_score,mean_squared_error,mean_absolute_error)\n",
    "from sklearn import metrics\n",
    "from sklearn.preprocessing import Normalizer\n",
    "from matplotlib import pyplot as plt\n",
    "import h5py\n",
    "from keras import callbacks\n",
    "from keras import callbacks\n",
    "from keras.callbacks import ModelCheckpoint, EarlyStopping, ReduceLROnPlateau, CSVLogger\n",
    "from sklearn.ensemble import RandomForestClassifier\n",
    "from sklearn.feature_selection import SelectFromModel"
   ]
  },
  {
   "cell_type": "code",
   "execution_count": 10,
   "metadata": {},
   "outputs": [],
   "source": [
    "def FeatureSelection(myinputX, myinputY):\n",
    "\n",
    "    labels = np.array(myinputY).astype(int)\n",
    "    inputX = np.array(myinputX)\n",
    "    \n",
    "    #Random Forest Model\n",
    "    model = RandomForestClassifier(random_state = 0)\n",
    "    model.fit(inputX,labels)\n",
    "    importances = model.feature_importances_\n",
    "    \n",
    "    \n",
    "    #Plotting the Features agains their importance scores\n",
    "    indices = np.argsort(importances)[::-1]\n",
    "    std = np.std([tree.feature_importances_ for tree in model.estimators_],\n",
    "             axis=0)\n",
    "    plt.figure(figsize = (10,5))\n",
    "    plt.title(\"Feature importances (y-axis) vs Features IDs(x-axis)\")\n",
    "    plt.bar(range(inputX.shape[1]), importances[indices],\n",
    "       color=\"r\", yerr=std[indices], align=\"center\")\n",
    "    plt.xticks(range(inputX.shape[1]), indices)\n",
    "    plt.xlim([-1, inputX.shape[1]])\n",
    "    plt.show()\n",
    "    \n",
    "    # Selecting top featueres which have higher importance values = here we can find \"12\" features\n",
    "    #as we can see in the next step\n",
    "    newX = myinputX.iloc[:,model.feature_importances_.argsort()[::-1][:25]]\n",
    "   # Converting the X dataframe into tensors\n",
    "    myX = newX.to_numpy()\n",
    "    myY = labels\n",
    "    #print(\"myY is havinglabels\\n\\n\",myX)\n",
    "\n",
    "   \n",
    "    return myX,myY"
   ]
  },
  {
   "cell_type": "code",
   "execution_count": 11,
   "metadata": {
    "scrolled": true
   },
   "outputs": [],
   "source": [
    "def DataLoading (mypath):\n",
    "    print (\"Loading the data\")\n",
    "    dataframe = pd.read_csv(mypath,header = None,engine = 'python',sep=\",\")\n",
    "    return dataframe\n",
    "\n",
    "def DataPreprocessing(mydataframe):\n",
    "    \n",
    "    # Dropping the duplicates\n",
    "    recordcount = len(mydataframe)\n",
    "    print (\"Original number of records in the training dataset before removing duplicates is: \" , recordcount)\n",
    "    mydataframe.drop_duplicates(subset=None, inplace=True)  # Python command to drop duplicates\n",
    "    newrecordcount = len(mydataframe)\n",
    "    print (\"Number of records in the training dataset after removing the duplicates is :\", newrecordcount,\"\\n\")\n",
    "\n",
    "    #Dropping the labels to a different dataset which is used to train the recurrent neural network classifier\n",
    "    df_X = mydataframe.drop(mydataframe.columns[41],axis=1,inplace = False)\n",
    "    df_Y = mydataframe.drop(mydataframe.columns[0:41],axis=1, inplace = False)\n",
    "\n",
    "    # Convert Categorial data to the numerical data for the efficient classification\n",
    "    df_X[df_X.columns[1:4]] = df_X[df_X.columns[1:4]].stack().rank(method='dense').unstack()\n",
    "        \n",
    "    a=[]\n",
    "    for x in df_Y[41]:\n",
    "        if(x=='normal'):\n",
    "            a.append(0)\n",
    "        elif(x=='neptune'or x=='back' or x=='land'or x=='pod'or x=='smurf'or x=='teardrop'or x=='mailbomb'or x=='apache2'or x=='processtable'or x=='udpstorm'):\n",
    "            a.append(1)\n",
    "        elif(x=='ipsweep' or x=='nmap' or x=='portsweep'or x=='satan'or x=='mscan'or x=='saint'):\n",
    "            a.append(2)\n",
    "        elif(x=='ftp_write' or x=='guess_passwd' or x=='imap'or x=='multihop'or x=='phf'or x=='spy'or x=='warezclient'\n",
    "             or x=='warezmaster'or x=='sendmail'or x=='named'or x=='snmpgetatack'or x=='snmpguess'or x=='worm'or x=='xlock'or x=='xsnoop'):\n",
    "            a.append(3)\n",
    "        elif(x=='httptunnel' or x=='buffer_overflow' or x=='loadmodule'or x=='perl'or x=='rootkit'or x=='ps'or x=='sqlattack'or x=='xterm'):\n",
    "            a.append(4)\n",
    "    \n",
    "    del df_Y[41]   \n",
    "    df_Y[41]=a\n",
    "       \n",
    "    y_train1 = np.array(df_Y[41])\n",
    "    \n",
    "    Y= to_categorical(y_train1)\n",
    "    print(Y)\n",
    "    #converting input data into float which is requried in the future stage of building in the network\n",
    "    df_X = df_X.loc[:,df_X.columns[0:41]].astype(float)\n",
    "\n",
    "    '''# Normal is \"1 0\" and the abnormal is \"0 1\"\n",
    "    df_Y.columns = [\"y1\"]\n",
    "    df_Y.loc[:,('y2')] = df_Y['y1'] ==0\n",
    "    df_Y.loc[:,('y2')] = df_Y['y2'].astype(int)\n",
    "    '''\n",
    "\n",
    "    \n",
    "    return df_X,Y"
   ]
  },
  {
   "cell_type": "code",
   "execution_count": 12,
   "metadata": {},
   "outputs": [
    {
     "name": "stdout",
     "output_type": "stream",
     "text": [
      "Loading the IDS Data\n",
      "Loading the data\n",
      "Data Preprocessing of loaded IDS Data\n",
      "Original number of records in the training dataset before removing duplicates is:  125973\n",
      "Number of records in the training dataset after removing the duplicates is : 125973 \n",
      "\n",
      "[[1. 0. 0. 0. 0.]\n",
      " [1. 0. 0. 0. 0.]\n",
      " [0. 1. 0. 0. 0.]\n",
      " ...\n",
      " [1. 0. 0. 0. 0.]\n",
      " [0. 1. 0. 0. 0.]\n",
      " [1. 0. 0. 0. 0.]]\n",
      "Performing the Feature Selection on train data set\n"
     ]
    },
    {
     "data": {
      "image/png": "[encoded data removed]",
      "text/plain": [
       "<Figure size 720x360 with 1 Axes>"
      ]
     },
     "metadata": {
      "needs_background": "light"
     },
     "output_type": "display_data"
    },
    {
     "name": "stdout",
     "output_type": "stream",
     "text": [
      " X shape is : (125973, 25)\n",
      " Y shape is : (125973, 5)\n"
     ]
    }
   ],
   "source": [
    "print (\"Loading the IDS Data\")\n",
    "data_path = \"KDDTrain+_2.csv\"\n",
    "dataframe = DataLoading(data_path)\n",
    "\n",
    "print (\"Data Preprocessing of loaded IDS Data\")\n",
    "data_X, data_Y = DataPreprocessing(dataframe)\n",
    "\n",
    "print (\"Performing the Feature Selection on train data set\")\n",
    "reduced_X,reduced_Y = FeatureSelection(data_X,data_Y)\n",
    "\n",
    "\n",
    "print (\" X shape is :\", reduced_X.shape)\n",
    "print (\" Y shape is :\", reduced_Y.shape)"
   ]
  },
  {
   "cell_type": "code",
   "execution_count": 7,
   "metadata": {},
   "outputs": [
    {
     "name": "stdout",
     "output_type": "stream",
     "text": [
      "(88181, 1, 25)\n",
      "(37792, 1, 25)\n",
      "(88181, 5)\n",
      "(37792, 5)\n"
     ]
    }
   ],
   "source": [
    "import sklearn\n",
    "from sklearn.model_selection import train_test_split\n",
    "import matplotlib.pyplot as plt\n",
    "red_X=np.reshape(reduced_X, (reduced_X.shape[0],1,reduced_X.shape[1]))\n",
    "X_train, X_test, y_train, y_test = train_test_split(red_X, reduced_Y, test_size = 0.3, random_state = 42)\n",
    "print(X_train.shape)\n",
    "print(X_test.shape)\n",
    "print(y_train.shape)\n",
    "print(y_test.shape)"
   ]
  },
  {
   "cell_type": "code",
   "execution_count": 8,
   "metadata": {},
   "outputs": [
    {
     "name": "stderr",
     "output_type": "stream",
     "text": [
      "c:\\users\\priya\\anaconda3\\envs\\tensorflow\\lib\\site-packages\\ipykernel_launcher.py:5: UserWarning: The `input_dim` and `input_length` arguments in recurrent layers are deprecated. Use `input_shape` instead.\n",
      "  \"\"\"\n",
      "c:\\users\\priya\\anaconda3\\envs\\tensorflow\\lib\\site-packages\\ipykernel_launcher.py:5: UserWarning: Update your `GRU` call to the Keras 2 API: `GRU(4, input_shape=(None, 25))`\n",
      "  \"\"\"\n"
     ]
    }
   ],
   "source": [
    "import keras.backend as K\n",
    "from keras.metrics import categorical_accuracy\n",
    "batch_size = 32\n",
    "model = Sequential()\n",
    "model.add(GRU(4,input_dim=25))  # try using a GRU instead, for fun\n",
    "model.add(Dropout(0.1))\n",
    "model.add(Dense(5))\n",
    "model.add(Activation('softmax'))\n"
   ]
  },
  {
   "cell_type": "code",
   "execution_count": 23,
   "metadata": {
    "collapsed": true
   },
   "outputs": [
    {
     "name": "stdout",
     "output_type": "stream",
     "text": [
      "Train on 88181 samples, validate on 37792 samples\n",
      "Epoch 1/50\n",
      "88181/88181 [==============================] - 16s 186us/step - loss: 0.6642 - categorical_accuracy: 0.8052 - val_loss: 0.3883 - val_categorical_accuracy: 0.8789\n",
      "Epoch 2/50\n",
      "88181/88181 [==============================] - 13s 152us/step - loss: 0.3846 - categorical_accuracy: 0.8868 - val_loss: 0.3073 - val_categorical_accuracy: 0.8974\n",
      "Epoch 3/50\n",
      "88181/88181 [==============================] - 13s 152us/step - loss: 0.3485 - categorical_accuracy: 0.9026 - val_loss: 0.2934 - val_categorical_accuracy: 0.9272\n",
      "Epoch 4/50\n",
      "88181/88181 [==============================] - 13s 151us/step - loss: 0.3418 - categorical_accuracy: 0.9133 - val_loss: 0.2804 - val_categorical_accuracy: 0.9379\n",
      "Epoch 5/50\n",
      "88181/88181 [==============================] - 14s 157us/step - loss: 0.3280 - categorical_accuracy: 0.9178 - val_loss: 0.2666 - val_categorical_accuracy: 0.9432\n",
      "Epoch 6/50\n",
      "88181/88181 [==============================] - 14s 161us/step - loss: 0.3175 - categorical_accuracy: 0.9212 - val_loss: 0.2646 - val_categorical_accuracy: 0.9359\n",
      "Epoch 7/50\n",
      "88181/88181 [==============================] - 14s 162us/step - loss: 0.2840 - categorical_accuracy: 0.9292 - val_loss: 0.1889 - val_categorical_accuracy: 0.9567\n",
      "Epoch 8/50\n",
      "88181/88181 [==============================] - 15s 174us/step - loss: 0.2400 - categorical_accuracy: 0.9369 - val_loss: 0.1673 - val_categorical_accuracy: 0.9610\n",
      "Epoch 9/50\n",
      "88181/88181 [==============================] - 14s 160us/step - loss: 0.2265 - categorical_accuracy: 0.9374 - val_loss: 0.1670 - val_categorical_accuracy: 0.9596\n",
      "Epoch 10/50\n",
      "88181/88181 [==============================] - 14s 156us/step - loss: 0.2165 - categorical_accuracy: 0.9411 - val_loss: 0.1611 - val_categorical_accuracy: 0.9603\n",
      "Epoch 11/50\n",
      "88181/88181 [==============================] - 14s 156us/step - loss: 0.2075 - categorical_accuracy: 0.9456 - val_loss: 0.1568 - val_categorical_accuracy: 0.9627\n",
      "Epoch 12/50\n",
      "88181/88181 [==============================] - 14s 154us/step - loss: 0.2018 - categorical_accuracy: 0.9477 - val_loss: 0.1482 - val_categorical_accuracy: 0.9647\n",
      "Epoch 13/50\n",
      "88181/88181 [==============================] - 16s 181us/step - loss: 0.1961 - categorical_accuracy: 0.9487 - val_loss: 0.1501 - val_categorical_accuracy: 0.9614\n",
      "Epoch 14/50\n",
      "88181/88181 [==============================] - 14s 164us/step - loss: 0.1893 - categorical_accuracy: 0.9518 - val_loss: 0.1388 - val_categorical_accuracy: 0.9702\n",
      "Epoch 15/50\n",
      "88181/88181 [==============================] - 15s 171us/step - loss: 0.1806 - categorical_accuracy: 0.9556 - val_loss: 0.1335 - val_categorical_accuracy: 0.9728\n",
      "Epoch 16/50\n",
      "88181/88181 [==============================] - 15s 167us/step - loss: 0.1781 - categorical_accuracy: 0.9601 - val_loss: 0.1325 - val_categorical_accuracy: 0.9727\n",
      "Epoch 17/50\n",
      "88181/88181 [==============================] - 15s 165us/step - loss: 0.1722 - categorical_accuracy: 0.9607 - val_loss: 0.1305 - val_categorical_accuracy: 0.9718\n",
      "Epoch 18/50\n",
      "88181/88181 [==============================] - 14s 154us/step - loss: 0.1698 - categorical_accuracy: 0.9608 - val_loss: 0.1242 - val_categorical_accuracy: 0.9734\n",
      "Epoch 19/50\n",
      "88181/88181 [==============================] - 14s 158us/step - loss: 0.1671 - categorical_accuracy: 0.9606 - val_loss: 0.1220 - val_categorical_accuracy: 0.9737\n",
      "Epoch 20/50\n",
      "88181/88181 [==============================] - 14s 159us/step - loss: 0.1670 - categorical_accuracy: 0.9607 - val_loss: 0.1305 - val_categorical_accuracy: 0.9722\n",
      "Epoch 21/50\n",
      "88181/88181 [==============================] - 14s 158us/step - loss: 0.1678 - categorical_accuracy: 0.9606 - val_loss: 0.1310 - val_categorical_accuracy: 0.9713\n",
      "Epoch 22/50\n",
      "88181/88181 [==============================] - 14s 164us/step - loss: 0.1658 - categorical_accuracy: 0.9610 - val_loss: 0.1204 - val_categorical_accuracy: 0.9743\n",
      "Epoch 23/50\n",
      "88181/88181 [==============================] - 16s 177us/step - loss: 0.1628 - categorical_accuracy: 0.9616 - val_loss: 0.1190 - val_categorical_accuracy: 0.9748\n",
      "Epoch 24/50\n",
      "88181/88181 [==============================] - 15s 170us/step - loss: 0.1624 - categorical_accuracy: 0.9619 - val_loss: 0.1194 - val_categorical_accuracy: 0.9743\n",
      "Epoch 25/50\n",
      "88181/88181 [==============================] - 15s 168us/step - loss: 0.1620 - categorical_accuracy: 0.9620 - val_loss: 0.1204 - val_categorical_accuracy: 0.9737\n",
      "Epoch 26/50\n",
      "88181/88181 [==============================] - 14s 164us/step - loss: 0.1631 - categorical_accuracy: 0.9620 - val_loss: 0.1233 - val_categorical_accuracy: 0.9731\n",
      "Epoch 27/50\n",
      "88181/88181 [==============================] - 14s 159us/step - loss: 0.1624 - categorical_accuracy: 0.9619 - val_loss: 0.1219 - val_categorical_accuracy: 0.9745\n",
      "Epoch 28/50\n",
      "88181/88181 [==============================] - 14s 159us/step - loss: 0.1642 - categorical_accuracy: 0.9612 - val_loss: 0.1306 - val_categorical_accuracy: 0.9712\n",
      "Epoch 29/50\n",
      "88181/88181 [==============================] - 14s 159us/step - loss: 0.1620 - categorical_accuracy: 0.9624 - val_loss: 0.1286 - val_categorical_accuracy: 0.9735\n",
      "Epoch 30/50\n",
      "88181/88181 [==============================] - 14s 163us/step - loss: 0.1629 - categorical_accuracy: 0.9616 - val_loss: 0.1194 - val_categorical_accuracy: 0.9744\n",
      "Epoch 31/50\n",
      "88181/88181 [==============================] - 15s 173us/step - loss: 0.1620 - categorical_accuracy: 0.9616 - val_loss: 0.1291 - val_categorical_accuracy: 0.9715\n",
      "Epoch 32/50\n",
      "88181/88181 [==============================] - 15s 167us/step - loss: 0.1590 - categorical_accuracy: 0.9630 - val_loss: 0.1306 - val_categorical_accuracy: 0.9715\n",
      "Epoch 33/50\n",
      "88181/88181 [==============================] - 15s 171us/step - loss: 0.1599 - categorical_accuracy: 0.9622 - val_loss: 0.1264 - val_categorical_accuracy: 0.9716\n",
      "Epoch 34/50\n",
      "88181/88181 [==============================] - 15s 167us/step - loss: 0.1620 - categorical_accuracy: 0.9619 - val_loss: 0.1166 - val_categorical_accuracy: 0.9749\n",
      "Epoch 35/50\n",
      "88181/88181 [==============================] - 15s 165us/step - loss: 0.1591 - categorical_accuracy: 0.9629 - val_loss: 0.1197 - val_categorical_accuracy: 0.9745\n",
      "Epoch 36/50\n",
      "88181/88181 [==============================] - 14s 158us/step - loss: 0.1601 - categorical_accuracy: 0.9625 - val_loss: 0.1188 - val_categorical_accuracy: 0.9746\n",
      "Epoch 37/50\n",
      "88181/88181 [==============================] - 14s 155us/step - loss: 0.1609 - categorical_accuracy: 0.9620 - val_loss: 0.1215 - val_categorical_accuracy: 0.9739\n",
      "Epoch 38/50\n",
      "88181/88181 [==============================] - 15s 169us/step - loss: 0.1580 - categorical_accuracy: 0.9634 - val_loss: 0.1176 - val_categorical_accuracy: 0.9754\n",
      "Epoch 39/50\n",
      "88181/88181 [==============================] - 17s 191us/step - loss: 0.1592 - categorical_accuracy: 0.9625 - val_loss: 0.1167 - val_categorical_accuracy: 0.9752\n",
      "Epoch 40/50\n",
      "88181/88181 [==============================] - 15s 172us/step - loss: 0.1596 - categorical_accuracy: 0.9624 - val_loss: 0.1206 - val_categorical_accuracy: 0.9744\n",
      "Epoch 41/50\n",
      "88181/88181 [==============================] - 15s 169us/step - loss: 0.1591 - categorical_accuracy: 0.9627 - val_loss: 0.1208 - val_categorical_accuracy: 0.9745\n",
      "Epoch 42/50\n",
      "88181/88181 [==============================] - 15s 169us/step - loss: 0.1609 - categorical_accuracy: 0.9623 - val_loss: 0.1212 - val_categorical_accuracy: 0.9744\n",
      "Epoch 43/50\n",
      "88181/88181 [==============================] - 14s 164us/step - loss: 0.1591 - categorical_accuracy: 0.9630 - val_loss: 0.1164 - val_categorical_accuracy: 0.9757\n",
      "Epoch 44/50\n",
      "88181/88181 [==============================] - 13s 147us/step - loss: 0.1591 - categorical_accuracy: 0.9624 - val_loss: 0.1331 - val_categorical_accuracy: 0.9680\n",
      "Epoch 45/50\n",
      "88181/88181 [==============================] - 14s 158us/step - loss: 0.1575 - categorical_accuracy: 0.9634 - val_loss: 0.1252 - val_categorical_accuracy: 0.9732\n",
      "Epoch 46/50\n",
      "88181/88181 [==============================] - 14s 162us/step - loss: 0.1580 - categorical_accuracy: 0.9630 - val_loss: 0.1210 - val_categorical_accuracy: 0.9741\n",
      "Epoch 47/50\n",
      "88181/88181 [==============================] - 16s 180us/step - loss: 0.1583 - categorical_accuracy: 0.9632 - val_loss: 0.1169 - val_categorical_accuracy: 0.9753\n"
     ]
    },
    {
     "name": "stdout",
     "output_type": "stream",
     "text": [
      "Epoch 48/50\n",
      "88181/88181 [==============================] - 14s 160us/step - loss: 0.1595 - categorical_accuracy: 0.9625 - val_loss: 0.1198 - val_categorical_accuracy: 0.9744\n",
      "Epoch 49/50\n",
      "88181/88181 [==============================] - 14s 158us/step - loss: 0.1598 - categorical_accuracy: 0.9627 - val_loss: 0.1194 - val_categorical_accuracy: 0.9744\n",
      "Epoch 50/50\n",
      "88181/88181 [==============================] - 14s 159us/step - loss: 0.1565 - categorical_accuracy: 0.9635 - val_loss: 0.1149 - val_categorical_accuracy: 0.9755\n"
     ]
    },
    {
     "data": {
      "text/plain": [
       "<keras.callbacks.History at 0x52c69c1550>"
      ]
     },
     "execution_count": 23,
     "metadata": {},
     "output_type": "execute_result"
    }
   ],
   "source": [
    "model.fit(X_train, y_train, batch_size=32, nb_epoch=50, validation_data=(X_test, y_test),verbose=1)"
   ]
  },
  {
   "cell_type": "code",
   "execution_count": 24,
   "metadata": {},
   "outputs": [
    {
     "name": "stdout",
     "output_type": "stream",
     "text": [
      "37792/37792 [==============================] - 2s 56us/step\n",
      "\n",
      "Loss: 0.11, Accuracy: 97.55%\n"
     ]
    }
   ],
   "source": [
    "loss, accuracy = model.evaluate(X_test, y_test)\n",
    "\n",
    "print(\"\\nLoss: %.2f, Accuracy: %.2f%%\" % (loss, accuracy*100))"
   ]
  },
  {
   "cell_type": "code",
   "execution_count": 11,
   "metadata": {
    "collapsed": true
   },
   "outputs": [
    {
     "name": "stdout",
     "output_type": "stream",
     "text": [
      "Train on 88181 samples, validate on 37792 samples\n",
      "Epoch 1/50\n",
      "88181/88181 [==============================] - 18s 207us/step - loss: 0.3200 - acc: 0.8860 - val_loss: 0.2768 - val_acc: 0.8983\n"
     ]
    },
    {
     "name": "stderr",
     "output_type": "stream",
     "text": [
      "c:\\users\\priya\\anaconda3\\envs\\tensorflow\\lib\\site-packages\\sklearn\\metrics\\_classification.py:1272: UndefinedMetricWarning: Precision and F-score are ill-defined and being set to 0.0 in labels with no predicted samples. Use `zero_division` parameter to control this behavior.\n",
      "  _warn_prf(average, modifier, msg_start, len(result))\n",
      "c:\\users\\priya\\anaconda3\\envs\\tensorflow\\lib\\site-packages\\sklearn\\metrics\\_classification.py:1272: UndefinedMetricWarning: Precision and F-score are ill-defined and being set to 0.0 in samples with no predicted labels. Use `zero_division` parameter to control this behavior.\n",
      "  _warn_prf(average, modifier, msg_start, len(result))\n"
     ]
    },
    {
     "name": "stdout",
     "output_type": "stream",
     "text": [
      "Epoch 2/50\n",
      "88181/88181 [==============================] - 17s 194us/step - loss: 0.2763 - acc: 0.9188 - val_loss: 0.2116 - val_acc: 0.9551\n",
      "Epoch 3/50\n",
      "88181/88181 [==============================] - 18s 199us/step - loss: 0.2395 - acc: 0.9384 - val_loss: 0.1851 - val_acc: 0.9595\n",
      "Epoch 4/50\n",
      "88181/88181 [==============================] - 16s 176us/step - loss: 0.2261 - acc: 0.9418 - val_loss: 0.1739 - val_acc: 0.9633\n",
      "Epoch 5/50\n",
      "88181/88181 [==============================] - 15s 176us/step - loss: 0.2164 - acc: 0.9451 - val_loss: 0.1601 - val_acc: 0.9675\n",
      "Epoch 6/50\n",
      "88181/88181 [==============================] - 16s 177us/step - loss: 0.2062 - acc: 0.9508 - val_loss: 0.1557 - val_acc: 0.9688\n",
      "Epoch 7/50\n",
      "88181/88181 [==============================] - 18s 209us/step - loss: 0.2015 - acc: 0.9521 - val_loss: 0.1576 - val_acc: 0.9682\n",
      "Epoch 8/50\n",
      "88181/88181 [==============================] - 17s 193us/step - loss: 0.2021 - acc: 0.9510 - val_loss: 0.1502 - val_acc: 0.9696\n",
      "Epoch 9/50\n",
      "88181/88181 [==============================] - 18s 206us/step - loss: 0.1986 - acc: 0.9533 - val_loss: 0.1488 - val_acc: 0.9704\n",
      "Epoch 10/50\n",
      "88181/88181 [==============================] - 17s 197us/step - loss: 0.1991 - acc: 0.9520 - val_loss: 0.1475 - val_acc: 0.9704\n",
      "Epoch 11/50\n",
      "88181/88181 [==============================] - 18s 202us/step - loss: 0.1944 - acc: 0.9543 - val_loss: 0.1430 - val_acc: 0.9696\n",
      "Epoch 12/50\n",
      "88181/88181 [==============================] - 17s 194us/step - loss: 0.1838 - acc: 0.9556 - val_loss: 0.1373 - val_acc: 0.9705\n",
      "Epoch 13/50\n",
      "88181/88181 [==============================] - 17s 192us/step - loss: 0.1809 - acc: 0.9554 - val_loss: 0.1351 - val_acc: 0.9701\n",
      "Epoch 14/50\n",
      "88181/88181 [==============================] - 17s 187us/step - loss: 0.1768 - acc: 0.9573 - val_loss: 0.1341 - val_acc: 0.9712\n",
      "Epoch 15/50\n",
      "88181/88181 [==============================] - 18s 199us/step - loss: 0.1736 - acc: 0.9588 - val_loss: 0.1360 - val_acc: 0.9709\n",
      "Epoch 16/50\n",
      "88181/88181 [==============================] - 17s 192us/step - loss: 0.1706 - acc: 0.9598 - val_loss: 0.1269 - val_acc: 0.9738\n",
      "Epoch 17/50\n",
      "88181/88181 [==============================] - 18s 200us/step - loss: 0.1694 - acc: 0.9596 - val_loss: 0.1293 - val_acc: 0.9730\n",
      "Epoch 18/50\n",
      "88181/88181 [==============================] - 18s 202us/step - loss: 0.1721 - acc: 0.9578 - val_loss: 0.1297 - val_acc: 0.9723\n",
      "Epoch 19/50\n",
      "88181/88181 [==============================] - 19s 212us/step - loss: 0.1699 - acc: 0.9595 - val_loss: 0.1275 - val_acc: 0.9730\n",
      "Epoch 20/50\n",
      "88181/88181 [==============================] - 16s 180us/step - loss: 0.1697 - acc: 0.9596 - val_loss: 0.1265 - val_acc: 0.9730\n",
      "Epoch 21/50\n",
      "88181/88181 [==============================] - 16s 176us/step - loss: 0.1701 - acc: 0.9590 - val_loss: 0.1260 - val_acc: 0.9737\n",
      "Epoch 22/50\n",
      "88181/88181 [==============================] - 16s 176us/step - loss: 0.1695 - acc: 0.9600 - val_loss: 0.1301 - val_acc: 0.9720\n",
      "Epoch 23/50\n",
      "88181/88181 [==============================] - 16s 176us/step - loss: 0.1693 - acc: 0.9598 - val_loss: 0.1264 - val_acc: 0.9730\n",
      "Epoch 24/50\n",
      "88181/88181 [==============================] - 17s 195us/step - loss: 0.1687 - acc: 0.9596 - val_loss: 0.1261 - val_acc: 0.9727\n",
      "Epoch 25/50\n",
      "88181/88181 [==============================] - 19s 219us/step - loss: 0.1689 - acc: 0.9588 - val_loss: 0.1258 - val_acc: 0.9735\n",
      "Epoch 26/50\n",
      "88181/88181 [==============================] - 20s 231us/step - loss: 0.1685 - acc: 0.9599 - val_loss: 0.1255 - val_acc: 0.9738\n",
      "Epoch 27/50\n",
      "88181/88181 [==============================] - 17s 192us/step - loss: 0.1662 - acc: 0.9611 - val_loss: 0.1268 - val_acc: 0.9731\n",
      "Epoch 28/50\n",
      "88181/88181 [==============================] - 15s 176us/step - loss: 0.1704 - acc: 0.9590 - val_loss: 0.1254 - val_acc: 0.9744\n",
      "Epoch 29/50\n",
      "88181/88181 [==============================] - 16s 185us/step - loss: 0.1673 - acc: 0.9605 - val_loss: 0.1262 - val_acc: 0.9747\n",
      "Epoch 30/50\n",
      "88181/88181 [==============================] - 16s 187us/step - loss: 0.1669 - acc: 0.9603 - val_loss: 0.1225 - val_acc: 0.9750\n",
      "Epoch 31/50\n",
      "88181/88181 [==============================] - 16s 178us/step - loss: 0.1676 - acc: 0.9594 - val_loss: 0.1217 - val_acc: 0.9752\n",
      "Epoch 32/50\n",
      "88181/88181 [==============================] - 16s 181us/step - loss: 0.1648 - acc: 0.9611 - val_loss: 0.1219 - val_acc: 0.9748\n",
      "Epoch 33/50\n",
      "88181/88181 [==============================] - 16s 183us/step - loss: 0.1682 - acc: 0.9601 - val_loss: 0.1245 - val_acc: 0.9745\n",
      "Epoch 34/50\n",
      "88181/88181 [==============================] - 16s 182us/step - loss: 0.1669 - acc: 0.9601 - val_loss: 0.1444 - val_acc: 0.9575\n",
      "Epoch 35/50\n",
      "88181/88181 [==============================] - 16s 181us/step - loss: 0.1697 - acc: 0.9595 - val_loss: 0.1234 - val_acc: 0.9739\n",
      "Epoch 36/50\n",
      "88181/88181 [==============================] - 16s 176us/step - loss: 0.1682 - acc: 0.9599 - val_loss: 0.1256 - val_acc: 0.9735\n",
      "Epoch 37/50\n",
      "88181/88181 [==============================] - 16s 177us/step - loss: 0.1665 - acc: 0.9606 - val_loss: 0.1282 - val_acc: 0.9735\n",
      "Epoch 38/50\n",
      "88181/88181 [==============================] - 16s 178us/step - loss: 0.1653 - acc: 0.9610 - val_loss: 0.1198 - val_acc: 0.9753\n",
      "Epoch 39/50\n",
      "88181/88181 [==============================] - 16s 183us/step - loss: 0.1657 - acc: 0.9611 - val_loss: 0.1211 - val_acc: 0.9745\n",
      "Epoch 40/50\n",
      "88181/88181 [==============================] - 16s 181us/step - loss: 0.1658 - acc: 0.9603 - val_loss: 0.1251 - val_acc: 0.9723\n",
      "Epoch 41/50\n",
      "88181/88181 [==============================] - 16s 181us/step - loss: 0.1666 - acc: 0.9595 - val_loss: 0.1222 - val_acc: 0.9742\n",
      "Epoch 42/50\n",
      "88181/88181 [==============================] - 18s 200us/step - loss: 0.1678 - acc: 0.9600 - val_loss: 0.1208 - val_acc: 0.9742\n",
      "Epoch 43/50\n",
      "88181/88181 [==============================] - 16s 186us/step - loss: 0.1650 - acc: 0.9608 - val_loss: 0.1207 - val_acc: 0.9752\n",
      "Epoch 44/50\n",
      "88181/88181 [==============================] - 16s 179us/step - loss: 0.1662 - acc: 0.9597 - val_loss: 0.1214 - val_acc: 0.9756\n",
      "Epoch 45/50\n",
      "88181/88181 [==============================] - 16s 180us/step - loss: 0.1642 - acc: 0.9612 - val_loss: 0.1214 - val_acc: 0.9756\n",
      "Epoch 46/50\n",
      "88181/88181 [==============================] - 16s 178us/step - loss: 0.1633 - acc: 0.9622 - val_loss: 0.1233 - val_acc: 0.9739\n",
      "Epoch 47/50\n",
      "88181/88181 [==============================] - 18s 201us/step - loss: 0.1656 - acc: 0.9621 - val_loss: 0.1262 - val_acc: 0.9734\n",
      "Epoch 48/50\n",
      "88181/88181 [==============================] - 18s 209us/step - loss: 0.1646 - acc: 0.9609 - val_loss: 0.1230 - val_acc: 0.9741\n",
      "Epoch 49/50\n",
      "88181/88181 [==============================] - 18s 201us/step - loss: 0.1655 - acc: 0.9614 - val_loss: 0.1200 - val_acc: 0.9756\n",
      "Epoch 50/50\n",
      "88181/88181 [==============================] - 16s 186us/step - loss: 0.1623 - acc: 0.9621 - val_loss: 0.1243 - val_acc: 0.9748\n"
     ]
    },
    {
     "data": {
      "text/plain": [
       "\"\\nplt.close('all')\\nfor m in ['recall', 'precision', 'f1-score']:\\n    for c in [0,1,2]:\\n        plt.plot(metrics_milticlass.get(m,c), label='Class {0} {1}'.format(c,m))\\n\\nplt.legend(loc='lower right')\\nplt.show()\\n\""
      ]
     },
     "execution_count": 11,
     "metadata": {},
     "output_type": "execute_result"
    }
   ],
   "source": [
    "import tensorflow as tf\n",
    "import keras\n",
    "from keras.layers import Dense, Input\n",
    "from keras.models import Sequential\n",
    "from keras.callbacks import Callback\n",
    "from sklearn.metrics import recall_score, classification_report\n",
    "from sklearn.datasets import make_classification\n",
    "import numpy as np\n",
    "import matplotlib.pyplot as plt\n",
    "\n",
    "model.compile(optimizer='adam', loss='categorical_crossentropy',metrics=['accuracy'])\n",
    "\n",
    "# callback to find metrics at epoch end\n",
    "class Metrics(Callback):\n",
    "    def __init__(self, x, y):\n",
    "        self.x = x\n",
    "        self.y = y if (y.ndim == 5 or y.shape[1] == 5) else np.argmax(y, axis=1)\n",
    "        self.reports = []\n",
    "\n",
    "    def on_epoch_end(self, epoch, logs={}):\n",
    "        y_hat = np.asarray(self.model.predict(self.x))\n",
    "        y_hat = np.where(y_hat > 0.5, 1, 0) if (self.y.ndim == 1 or y_hat.shape[1] == 5)  else np.argmax(y_hat, axis=1)\n",
    "        report = classification_report(self.y,y_hat,output_dict=True)\n",
    "        self.reports.append(report)\n",
    "        return\n",
    "\n",
    "    # Utility method\n",
    "    def get(self, metrics, of_class):\n",
    "        return [report[str(of_class)][metrics] for report in self.reports]\n",
    "\n",
    "\n",
    "metrics = Metrics(X_train,y_train)\n",
    "history = model.fit(X_train, y_train, batch_size=32, nb_epoch=50,validation_data=(X_test, y_test),callbacks=[metrics],verbose=1)\n",
    "\n",
    "'''\n",
    "plt.close('all')\n",
    "for m in ['recall', 'precision', 'f1-score']:\n",
    "    for c in [0,1,2]:\n",
    "        plt.plot(metrics_milticlass.get(m,c), label='Class {0} {1}'.format(c,m))\n",
    "\n",
    "plt.legend(loc='lower right')\n",
    "plt.show()\n",
    "'''"
   ]
  },
  {
   "cell_type": "code",
   "execution_count": 13,
   "metadata": {},
   "outputs": [
    {
     "name": "stdout",
     "output_type": "stream",
     "text": [
      "37792/37792 [==============================] - 2s 55us/step\n",
      "Loss= 0.12430830353714847 \n",
      "Acuracy= 97.47830228619814\n"
     ]
    }
   ],
   "source": [
    "loss,accuracy=model.evaluate(X_test,y_test)\n",
    "print(\"Loss=\",loss,\"\\nAcuracy=\",accuracy*100)"
   ]
  },
  {
   "cell_type": "code",
   "execution_count": 15,
   "metadata": {},
   "outputs": [
    {
     "name": "stdout",
     "output_type": "stream",
     "text": [
      "              precision    recall  f1-score   support\n",
      "\n",
      "           0       0.96      0.99      0.98     20083\n",
      "           1       0.99      0.98      0.98     13825\n",
      "           2       1.00      0.94      0.97      3540\n",
      "           3       0.00      0.00      0.00       327\n",
      "           4       0.00      0.00      0.00        17\n",
      "\n",
      "   micro avg       0.98      0.97      0.97     37792\n",
      "   macro avg       0.59      0.58      0.59     37792\n",
      "weighted avg       0.97      0.97      0.97     37792\n",
      " samples avg       0.97      0.97      0.97     37792\n",
      "\n"
     ]
    }
   ],
   "source": [
    "import matplotlib.pyplot as plt\n",
    "import numpy as np\n",
    "from sklearn.metrics import confusion_matrix\n",
    "\n",
    "y_pred = model.predict(X_test)\n",
    "\n",
    "print(classification_report(y_test, y_pred.round(), labels=[0,1,2,3,4]))\n"
   ]
  },
  {
   "cell_type": "code",
   "execution_count": 39,
   "metadata": {
    "scrolled": false
   },
   "outputs": [
    {
     "data": {
      "image/png": "[encoded data removed]",
      "text/plain": [
       "<matplotlib.figure.Figure at 0x6637e11b00>"
      ]
     },
     "metadata": {
      "needs_background": "light"
     },
     "output_type": "display_data"
    },
    {
     "data": {
      "image/png": "[encoded data removed]",
      "text/plain": [
       "<matplotlib.figure.Figure at 0x6637eace80>"
      ]
     },
     "metadata": {
      "needs_background": "light"
     },
     "output_type": "display_data"
    },
    {
     "data": {
      "image/png": "[encoded data removed]",
      "text/plain": [
       "<matplotlib.figure.Figure at 0x6637ef9ef0>"
      ]
     },
     "metadata": {
      "needs_background": "light"
     },
     "output_type": "display_data"
    }
   ],
   "source": [
    "# summarize history for accuracy\n",
    "plt.plot(history.history['acc'],label='TRAIN')\n",
    "plt.plot(history.history['val_acc'],label='TEST')\n",
    "plt.title('EPOCHS Vs ACCURACY PLOT')\n",
    "plt.ylabel('ACCURACY')\n",
    "plt.xlabel('EPOCH')\n",
    "plt.legend(loc='lower center',bbox_to_anchor=(0.46,-0.30),ncol=2)\n",
    "plt.show()\n",
    "\n",
    "# summarize history for loss\n",
    "plt.plot(history.history['loss'],label='TRAIN')\n",
    "plt.plot(history.history['val_loss'],label='TEST')\n",
    "plt.title('EPOCHS Vs LOSS PLOT')\n",
    "plt.ylabel('LOSS')\n",
    "plt.xlabel('EPOCH')\n",
    "plt.legend(loc='lower center',bbox_to_anchor=(0.46,-0.35),ncol=2)\n",
    "plt.show()\n",
    "\n",
    "\n",
    "plt.close('all')\n",
    "for m in ['recall', 'precision', 'f1-score']:\n",
    "    for c in [0,1,2,3,4]:\n",
    "        plt.plot(metrics.get(m,c), label='Class {0} {1}'.format(c,m))\n",
    "plt.ylabel('METRICS')\n",
    "plt.xlabel('EPOCH')\n",
    "plt.title('EPOCHS Vs METRICS PLOT')\n",
    "plt.legend(loc='lower center',bbox_to_anchor=(0.46,-0.55),ncol=3)\n",
    "#plt.xlim(1.3,4)\n",
    "plt.ylim(0.8,0.999)\n",
    "plt.show()\n"
   ]
  },
  {
   "cell_type": "code",
   "execution_count": 37,
   "metadata": {},
   "outputs": [],
   "source": [
    "model.save(\"results/multi_model.hdf5\")"
   ]
  },
  {
   "cell_type": "code",
   "execution_count": null,
   "metadata": {},
   "outputs": [],
   "source": []
  }
 ],
 "metadata": {
  "kernelspec": {
   "display_name": "Python 3",
   "language": "python",
   "name": "python3"
  },
  "language_info": {
   "codemirror_mode": {
    "name": "ipython",
    "version": 3
   },
   "file_extension": ".py",
   "mimetype": "text/x-python",
   "name": "python",
   "nbconvert_exporter": "python",
   "pygments_lexer": "ipython3",
   "version": "3.6.7"
  }
 },
 "nbformat": 4,
 "nbformat_minor": 2
}
